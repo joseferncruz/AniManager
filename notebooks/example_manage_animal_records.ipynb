{
 "cells": [
  {
   "cell_type": "markdown",
   "metadata": {},
   "source": [
    "# Managing animal records\n"
   ]
  },
  {
   "cell_type": "markdown",
   "metadata": {},
   "source": [
    "### LeDoux Lab\n",
    "\n",
    "This notebook is intended to ease the **management of lab animal**.\n",
    "\n",
    "This is an ongoing project and it's normal find bugs or functions that are useful but not yet implemented. If you have any questions or suggestions just email : jose.cruz@nyu.edu \n"
   ]
  },
  {
   "cell_type": "markdown",
   "metadata": {},
   "source": [
    "### Import relevant python modules"
   ]
  },
  {
   "cell_type": "code",
   "execution_count": 1,
   "metadata": {},
   "outputs": [],
   "source": [
    "import os\n",
    "import numpy as np\n",
    "import pandas as pd\n",
    "import sys\n",
    "import warnings\n",
    "import importlib\n",
    "warnings.filterwarnings('ignore')"
   ]
  },
  {
   "cell_type": "markdown",
   "metadata": {},
   "source": [
    "### Load the source code library\n",
    "\n",
    "First, let's tell python where the source (*src*) code library is."
   ]
  },
  {
   "cell_type": "code",
   "execution_count": 2,
   "metadata": {},
   "outputs": [
    {
     "name": "stdout",
     "output_type": "stream",
     "text": [
      "Insert the absolute path of the source code directory: C:\\Users\\josec\\Google Drive\\work\\science\\postdoc_nyu\\reproducible_science_tools\\ani_manager\\src\n"
     ]
    },
    {
     "data": {
      "text/plain": [
       "'C:\\\\Users\\\\josec\\\\Google Drive\\\\work\\\\science\\\\postdoc_nyu\\\\reproducible_science_tools\\\\ani_manager\\\\src'"
      ]
     },
     "execution_count": 2,
     "metadata": {},
     "output_type": "execute_result"
    }
   ],
   "source": [
    "# Define the directory path for the source code folder\n",
    "src_directory_path = input('Insert the absolute path of the source code directory: ')\n",
    "\n",
    "# Add the folder to the system pathway\n",
    "\n",
    "sys.path.insert(0, src_directory_path)\n",
    "sys.path[0]"
   ]
  },
  {
   "cell_type": "markdown",
   "metadata": {},
   "source": [
    "#### Import module: ani_manager\n",
    "This module holds the functions that create, modify and save the main animal record. "
   ]
  },
  {
   "cell_type": "code",
   "execution_count": 3,
   "metadata": {},
   "outputs": [],
   "source": [
    "import ani_manager\n",
    "from ani_manager import *\n",
    "#importlib.reload(ani_manager)"
   ]
  },
  {
   "cell_type": "markdown",
   "metadata": {},
   "source": [
    "# Create new animal record\n",
    "\n",
    "This section creates a new animal record with the following information:\n",
    "\n",
    "*'project', 'pi', 'user', 'species', 'strain', 'animal_id', 'sex', 'date_of_birth', 'date_of_arrival', 'age_at_arrival_weeks', 'location_id', 'date_of_sacrifice'*\n",
    "\n",
    "The identification of the animals will use an **individual, unique numerical id**. This identifier will be transverse to all the expeririments and future code will automatically fetch information about an individual animal based on this id.\n",
    "\n",
    "**Note**\n",
    "If the list of animals is empty, it will return the shell of the record."
   ]
  },
  {
   "cell_type": "code",
   "execution_count": 10,
   "metadata": {
    "scrolled": true
   },
   "outputs": [
    {
     "data": {
      "text/plain": [
       "{'animal_list': [365, 987, 123],\n",
       " 'project': 'project_x',\n",
       " 'principal_investigator': 'rs',\n",
       " 'user': 'jc',\n",
       " 'species': 'rat',\n",
       " 'strain': 'sprague-dawley',\n",
       " 'age_at_arrival_weeks': 8,\n",
       " 'sex': 'male',\n",
       " 'date_of_birth': '20200101',\n",
       " 'date_of_arrival': '20200213',\n",
       " 'location_id': 'animal_room_01'}"
      ]
     },
     "metadata": {},
     "output_type": "display_data"
    }
   ],
   "source": [
    "# Create a list with the animal ID\n",
    "# Must be a sequence (ie list): numbers inbetween square brackets and separeted by commas\n",
    "\n",
    "animal_list = [365, 987, 123]   # e.g. [12345, 123345, 12312, 1231233]\n",
    "\n",
    "\n",
    "import_info = {\n",
    "    \n",
    "               'animal_list': animal_list,\n",
    "                   'project': 'project_x',\n",
    "    'principal_investigator': 'rs',\n",
    "                      'user': 'jc',\n",
    "                   'species': 'rat',\n",
    "                    'strain': 'sprague-dawley',\n",
    "      'age_at_arrival_weeks': 8,   # non decimal \n",
    "                       'sex': 'male',\n",
    "             'date_of_birth': '20200101',  # use format: YYYYMMDD \n",
    "           'date_of_arrival': '20200213',  # use format: YYYYMMDD\n",
    "               'location_id': 'animal_room_01',\n",
    "    \n",
    "}\n",
    "\n",
    "display(import_info)"
   ]
  },
  {
   "cell_type": "code",
   "execution_count": 11,
   "metadata": {},
   "outputs": [
    {
     "data": {
      "text/html": [
       "<div>\n",
       "<style scoped>\n",
       "    .dataframe tbody tr th:only-of-type {\n",
       "        vertical-align: middle;\n",
       "    }\n",
       "\n",
       "    .dataframe tbody tr th {\n",
       "        vertical-align: top;\n",
       "    }\n",
       "\n",
       "    .dataframe thead th {\n",
       "        text-align: right;\n",
       "    }\n",
       "</style>\n",
       "<table border=\"1\" class=\"dataframe\">\n",
       "  <thead>\n",
       "    <tr style=\"text-align: right;\">\n",
       "      <th></th>\n",
       "      <th>project</th>\n",
       "      <th>pi</th>\n",
       "      <th>user</th>\n",
       "      <th>species</th>\n",
       "      <th>strain</th>\n",
       "      <th>animal_id</th>\n",
       "      <th>sex</th>\n",
       "      <th>date_of_birth</th>\n",
       "      <th>date_of_arrival</th>\n",
       "      <th>age_at_arrival_weeks</th>\n",
       "      <th>location_id</th>\n",
       "      <th>date_of_sacrifice</th>\n",
       "    </tr>\n",
       "  </thead>\n",
       "  <tbody>\n",
       "    <tr>\n",
       "      <th>0</th>\n",
       "      <td>project_x</td>\n",
       "      <td>rs</td>\n",
       "      <td>jc</td>\n",
       "      <td>rat</td>\n",
       "      <td>sprague-dawley</td>\n",
       "      <td>123</td>\n",
       "      <td>male</td>\n",
       "      <td>20200101</td>\n",
       "      <td>20200213</td>\n",
       "      <td>8</td>\n",
       "      <td>animal_room_01</td>\n",
       "      <td>NaN</td>\n",
       "    </tr>\n",
       "    <tr>\n",
       "      <th>1</th>\n",
       "      <td>project_x</td>\n",
       "      <td>rs</td>\n",
       "      <td>jc</td>\n",
       "      <td>rat</td>\n",
       "      <td>sprague-dawley</td>\n",
       "      <td>365</td>\n",
       "      <td>male</td>\n",
       "      <td>20200101</td>\n",
       "      <td>20200213</td>\n",
       "      <td>8</td>\n",
       "      <td>animal_room_01</td>\n",
       "      <td>NaN</td>\n",
       "    </tr>\n",
       "    <tr>\n",
       "      <th>2</th>\n",
       "      <td>project_x</td>\n",
       "      <td>rs</td>\n",
       "      <td>jc</td>\n",
       "      <td>rat</td>\n",
       "      <td>sprague-dawley</td>\n",
       "      <td>987</td>\n",
       "      <td>male</td>\n",
       "      <td>20200101</td>\n",
       "      <td>20200213</td>\n",
       "      <td>8</td>\n",
       "      <td>animal_room_01</td>\n",
       "      <td>NaN</td>\n",
       "    </tr>\n",
       "  </tbody>\n",
       "</table>\n",
       "</div>"
      ],
      "text/plain": [
       "     project  pi user species          strain animal_id   sex date_of_birth  \\\n",
       "0  project_x  rs   jc     rat  sprague-dawley       123  male      20200101   \n",
       "1  project_x  rs   jc     rat  sprague-dawley       365  male      20200101   \n",
       "2  project_x  rs   jc     rat  sprague-dawley       987  male      20200101   \n",
       "\n",
       "  date_of_arrival  age_at_arrival_weeks     location_id  date_of_sacrifice  \n",
       "0        20200213                     8  animal_room_01                NaN  \n",
       "1        20200213                     8  animal_room_01                NaN  \n",
       "2        20200213                     8  animal_room_01                NaN  "
      ]
     },
     "metadata": {},
     "output_type": "display_data"
    }
   ],
   "source": [
    "animal_record = create_new_animal_record(import_info)\n",
    "\n",
    "display(animal_record)"
   ]
  },
  {
   "cell_type": "markdown",
   "metadata": {},
   "source": [
    "## (Optional)  Export this individual import as .xls or .csv file\n",
    "\n",
    "All files are identified as: new_import + date(YYYMMDD_HHMMSS). Example:\n",
    "\n",
    "`new_import_20200325_163206.csv`\n",
    "\n",
    "`new_import_20200325_163206.xls`"
   ]
  },
  {
   "cell_type": "code",
   "execution_count": 6,
   "metadata": {
    "scrolled": false
   },
   "outputs": [
    {
     "name": "stdout",
     "output_type": "stream",
     "text": [
      "Insert the absolute path to the animal records directory: \n",
      "C:\\Users\\josec\\Desktop\\tests\\animal_records\n"
     ]
    }
   ],
   "source": [
    "# Insert the path to the directory where the animal files are stored.\n",
    "saving_directory = input('Insert the absolute path to the animal records directory: \\n')"
   ]
  },
  {
   "cell_type": "code",
   "execution_count": 7,
   "metadata": {},
   "outputs": [
    {
     "name": "stdout",
     "output_type": "stream",
     "text": [
      "This is a new main record.\n",
      "Main record directory not found.                   Creating directory main_record at \n",
      " C:\\Users\\josec\\Desktop\\tests\\animal_records\\main_record\n",
      "main record stored at \n",
      "C:\\Users\\josec\\Desktop\\tests\\animal_records\\main_record\\main_record_20200403_140748.csv\n",
      "Directory not found. Creating directory individual_updates at                \n",
      " C:\\Users\\josec\\Desktop\\tests\\animal_records\\individual_updates\n",
      "File saved at: \n",
      "C:\\Users\\josec\\Desktop\\tests\\animal_records\\individual_updates\\new_import_20200403_140748.csv.\n",
      "File saved at: \n",
      "C:\\Users\\josec\\Desktop\\tests\\animal_records\\individual_updates\\new_import_20200403_140748.xls.\n"
     ]
    }
   ],
   "source": [
    "save_new_animal_record(\n",
    "    animal_record=animal_record,\n",
    "    save_dir=saving_directory,\n",
    "    is_new_main_record=True,\n",
    "    save_csv=True,       # Change here to True\n",
    "    save_excel=True,    # Change here to True\n",
    ")"
   ]
  },
  {
   "cell_type": "markdown",
   "metadata": {},
   "source": [
    "# Check and update the main record\n",
    "\n",
    "First we need to load the main record file. Specify the directory where it is store and follow the instructions. "
   ]
  },
  {
   "cell_type": "code",
   "execution_count": 8,
   "metadata": {},
   "outputs": [
    {
     "name": "stdout",
     "output_type": "stream",
     "text": [
      "Insert the absolute path to the main record directory: \n",
      "C:\\Users\\josec\\Desktop\\tests\\animal_records\\main_record\n"
     ]
    }
   ],
   "source": [
    "# Directory filepath\n",
    "main_record_dir = input('Insert the absolute path to the main record directory: \\n')\n"
   ]
  },
  {
   "cell_type": "markdown",
   "metadata": {},
   "source": [
    "### 1) Load the main record. "
   ]
  },
  {
   "cell_type": "code",
   "execution_count": 24,
   "metadata": {},
   "outputs": [
    {
     "data": {
      "text/plain": [
       "'C:\\\\Users\\\\josec\\\\Desktop\\\\tests\\\\animal_records\\\\main_record\\\\main_record_20200403_141806.csv'"
      ]
     },
     "metadata": {},
     "output_type": "display_data"
    },
    {
     "data": {
      "text/html": [
       "<div>\n",
       "<style scoped>\n",
       "    .dataframe tbody tr th:only-of-type {\n",
       "        vertical-align: middle;\n",
       "    }\n",
       "\n",
       "    .dataframe tbody tr th {\n",
       "        vertical-align: top;\n",
       "    }\n",
       "\n",
       "    .dataframe thead th {\n",
       "        text-align: right;\n",
       "    }\n",
       "</style>\n",
       "<table border=\"1\" class=\"dataframe\">\n",
       "  <thead>\n",
       "    <tr style=\"text-align: right;\">\n",
       "      <th></th>\n",
       "      <th>project</th>\n",
       "      <th>pi</th>\n",
       "      <th>user</th>\n",
       "      <th>species</th>\n",
       "      <th>strain</th>\n",
       "      <th>animal_id</th>\n",
       "      <th>sex</th>\n",
       "      <th>date_of_birth</th>\n",
       "      <th>date_of_arrival</th>\n",
       "      <th>age_at_arrival_weeks</th>\n",
       "      <th>location_id</th>\n",
       "      <th>date_of_sacrifice</th>\n",
       "    </tr>\n",
       "  </thead>\n",
       "  <tbody>\n",
       "    <tr>\n",
       "      <th>0</th>\n",
       "      <td>project_x</td>\n",
       "      <td>rs</td>\n",
       "      <td>jc</td>\n",
       "      <td>rat</td>\n",
       "      <td>sprague-dawley</td>\n",
       "      <td>132</td>\n",
       "      <td>male</td>\n",
       "      <td>2020-01-01</td>\n",
       "      <td>2020-02-13</td>\n",
       "      <td>8</td>\n",
       "      <td>animal_room_01</td>\n",
       "      <td>NaT</td>\n",
       "    </tr>\n",
       "    <tr>\n",
       "      <th>1</th>\n",
       "      <td>project_x</td>\n",
       "      <td>rs</td>\n",
       "      <td>jc</td>\n",
       "      <td>rat</td>\n",
       "      <td>sprague-dawley</td>\n",
       "      <td>456</td>\n",
       "      <td>male</td>\n",
       "      <td>2020-01-01</td>\n",
       "      <td>2020-02-13</td>\n",
       "      <td>8</td>\n",
       "      <td>animal_room_01</td>\n",
       "      <td>NaT</td>\n",
       "    </tr>\n",
       "    <tr>\n",
       "      <th>2</th>\n",
       "      <td>project_x</td>\n",
       "      <td>rs</td>\n",
       "      <td>jc</td>\n",
       "      <td>rat</td>\n",
       "      <td>sprague-dawley</td>\n",
       "      <td>789</td>\n",
       "      <td>male</td>\n",
       "      <td>2020-01-01</td>\n",
       "      <td>2020-02-13</td>\n",
       "      <td>8</td>\n",
       "      <td>animal_room_01</td>\n",
       "      <td>NaT</td>\n",
       "    </tr>\n",
       "    <tr>\n",
       "      <th>0</th>\n",
       "      <td>project_x</td>\n",
       "      <td>rs</td>\n",
       "      <td>jc</td>\n",
       "      <td>rat</td>\n",
       "      <td>sprague-dawley</td>\n",
       "      <td>123</td>\n",
       "      <td>male</td>\n",
       "      <td>2020-01-01</td>\n",
       "      <td>2020-02-13</td>\n",
       "      <td>8</td>\n",
       "      <td>animal_room_01</td>\n",
       "      <td>2020-04-01</td>\n",
       "    </tr>\n",
       "    <tr>\n",
       "      <th>1</th>\n",
       "      <td>project_x</td>\n",
       "      <td>rs</td>\n",
       "      <td>jc</td>\n",
       "      <td>rat</td>\n",
       "      <td>sprague-dawley</td>\n",
       "      <td>365</td>\n",
       "      <td>male</td>\n",
       "      <td>2020-01-01</td>\n",
       "      <td>2020-02-13</td>\n",
       "      <td>8</td>\n",
       "      <td>animal_room_01</td>\n",
       "      <td>NaT</td>\n",
       "    </tr>\n",
       "    <tr>\n",
       "      <th>2</th>\n",
       "      <td>project_x</td>\n",
       "      <td>rs</td>\n",
       "      <td>jc</td>\n",
       "      <td>rat</td>\n",
       "      <td>sprague-dawley</td>\n",
       "      <td>987</td>\n",
       "      <td>male</td>\n",
       "      <td>2020-01-01</td>\n",
       "      <td>2020-02-13</td>\n",
       "      <td>8</td>\n",
       "      <td>animal_room_01</td>\n",
       "      <td>NaT</td>\n",
       "    </tr>\n",
       "  </tbody>\n",
       "</table>\n",
       "</div>"
      ],
      "text/plain": [
       "     project  pi user species          strain  animal_id   sex date_of_birth  \\\n",
       "0  project_x  rs   jc     rat  sprague-dawley        132  male    2020-01-01   \n",
       "1  project_x  rs   jc     rat  sprague-dawley        456  male    2020-01-01   \n",
       "2  project_x  rs   jc     rat  sprague-dawley        789  male    2020-01-01   \n",
       "0  project_x  rs   jc     rat  sprague-dawley        123  male    2020-01-01   \n",
       "1  project_x  rs   jc     rat  sprague-dawley        365  male    2020-01-01   \n",
       "2  project_x  rs   jc     rat  sprague-dawley        987  male    2020-01-01   \n",
       "\n",
       "  date_of_arrival  age_at_arrival_weeks     location_id date_of_sacrifice  \n",
       "0      2020-02-13                     8  animal_room_01               NaT  \n",
       "1      2020-02-13                     8  animal_room_01               NaT  \n",
       "2      2020-02-13                     8  animal_room_01               NaT  \n",
       "0      2020-02-13                     8  animal_room_01        2020-04-01  \n",
       "1      2020-02-13                     8  animal_room_01               NaT  \n",
       "2      2020-02-13                     8  animal_room_01               NaT  "
      ]
     },
     "metadata": {},
     "output_type": "display_data"
    }
   ],
   "source": [
    "main_record_filepath, main_record = get_main_record(main_record_dir)\n",
    "\n",
    "display(main_record_filepath)\n",
    "display(main_record)"
   ]
  },
  {
   "cell_type": "markdown",
   "metadata": {},
   "source": [
    "### 2) Merge the new import with the main record.\n",
    "\n",
    "If you created a new import and you want to merge it with the animal record, use the function bellow. \n",
    "If you have multiple records, you can call the function for each merge. \n",
    "\n",
    "**Note**\n",
    "If you have more experience with pandas, just merge all the new imports and then call the function bellow. "
   ]
  },
  {
   "cell_type": "code",
   "execution_count": 12,
   "metadata": {
    "scrolled": true
   },
   "outputs": [
    {
     "name": "stdout",
     "output_type": "stream",
     "text": [
      "File saved at: \n",
      "C:\\Users\\josec\\Desktop\\tests\\animal_records\\main_record\\main_record_20200403_141137.csv\n"
     ]
    }
   ],
   "source": [
    "updated_record = merge_main_record(animal_record,\n",
    "                                   main_record,\n",
    "                                   main_record_dir,\n",
    "                                   save_output=True,# Change here\n",
    "                                   )"
   ]
  },
  {
   "cell_type": "code",
   "execution_count": 13,
   "metadata": {},
   "outputs": [
    {
     "data": {
      "text/html": [
       "<div>\n",
       "<style scoped>\n",
       "    .dataframe tbody tr th:only-of-type {\n",
       "        vertical-align: middle;\n",
       "    }\n",
       "\n",
       "    .dataframe tbody tr th {\n",
       "        vertical-align: top;\n",
       "    }\n",
       "\n",
       "    .dataframe thead th {\n",
       "        text-align: right;\n",
       "    }\n",
       "</style>\n",
       "<table border=\"1\" class=\"dataframe\">\n",
       "  <thead>\n",
       "    <tr style=\"text-align: right;\">\n",
       "      <th></th>\n",
       "      <th>project</th>\n",
       "      <th>pi</th>\n",
       "      <th>user</th>\n",
       "      <th>species</th>\n",
       "      <th>strain</th>\n",
       "      <th>animal_id</th>\n",
       "      <th>sex</th>\n",
       "      <th>date_of_birth</th>\n",
       "      <th>date_of_arrival</th>\n",
       "      <th>age_at_arrival_weeks</th>\n",
       "      <th>location_id</th>\n",
       "      <th>date_of_sacrifice</th>\n",
       "    </tr>\n",
       "  </thead>\n",
       "  <tbody>\n",
       "    <tr>\n",
       "      <th>0</th>\n",
       "      <td>project_x</td>\n",
       "      <td>rs</td>\n",
       "      <td>jc</td>\n",
       "      <td>rat</td>\n",
       "      <td>sprague-dawley</td>\n",
       "      <td>132</td>\n",
       "      <td>male</td>\n",
       "      <td>2020-01-01 00:00:00</td>\n",
       "      <td>2020-02-13 00:00:00</td>\n",
       "      <td>8</td>\n",
       "      <td>animal_room_01</td>\n",
       "      <td>NaT</td>\n",
       "    </tr>\n",
       "    <tr>\n",
       "      <th>1</th>\n",
       "      <td>project_x</td>\n",
       "      <td>rs</td>\n",
       "      <td>jc</td>\n",
       "      <td>rat</td>\n",
       "      <td>sprague-dawley</td>\n",
       "      <td>456</td>\n",
       "      <td>male</td>\n",
       "      <td>2020-01-01 00:00:00</td>\n",
       "      <td>2020-02-13 00:00:00</td>\n",
       "      <td>8</td>\n",
       "      <td>animal_room_01</td>\n",
       "      <td>NaT</td>\n",
       "    </tr>\n",
       "    <tr>\n",
       "      <th>2</th>\n",
       "      <td>project_x</td>\n",
       "      <td>rs</td>\n",
       "      <td>jc</td>\n",
       "      <td>rat</td>\n",
       "      <td>sprague-dawley</td>\n",
       "      <td>789</td>\n",
       "      <td>male</td>\n",
       "      <td>2020-01-01 00:00:00</td>\n",
       "      <td>2020-02-13 00:00:00</td>\n",
       "      <td>8</td>\n",
       "      <td>animal_room_01</td>\n",
       "      <td>NaT</td>\n",
       "    </tr>\n",
       "    <tr>\n",
       "      <th>0</th>\n",
       "      <td>project_x</td>\n",
       "      <td>rs</td>\n",
       "      <td>jc</td>\n",
       "      <td>rat</td>\n",
       "      <td>sprague-dawley</td>\n",
       "      <td>123</td>\n",
       "      <td>male</td>\n",
       "      <td>20200101</td>\n",
       "      <td>20200213</td>\n",
       "      <td>8</td>\n",
       "      <td>animal_room_01</td>\n",
       "      <td>NaT</td>\n",
       "    </tr>\n",
       "    <tr>\n",
       "      <th>1</th>\n",
       "      <td>project_x</td>\n",
       "      <td>rs</td>\n",
       "      <td>jc</td>\n",
       "      <td>rat</td>\n",
       "      <td>sprague-dawley</td>\n",
       "      <td>365</td>\n",
       "      <td>male</td>\n",
       "      <td>20200101</td>\n",
       "      <td>20200213</td>\n",
       "      <td>8</td>\n",
       "      <td>animal_room_01</td>\n",
       "      <td>NaT</td>\n",
       "    </tr>\n",
       "    <tr>\n",
       "      <th>2</th>\n",
       "      <td>project_x</td>\n",
       "      <td>rs</td>\n",
       "      <td>jc</td>\n",
       "      <td>rat</td>\n",
       "      <td>sprague-dawley</td>\n",
       "      <td>987</td>\n",
       "      <td>male</td>\n",
       "      <td>20200101</td>\n",
       "      <td>20200213</td>\n",
       "      <td>8</td>\n",
       "      <td>animal_room_01</td>\n",
       "      <td>NaT</td>\n",
       "    </tr>\n",
       "  </tbody>\n",
       "</table>\n",
       "</div>"
      ],
      "text/plain": [
       "     project  pi user species          strain animal_id   sex  \\\n",
       "0  project_x  rs   jc     rat  sprague-dawley       132  male   \n",
       "1  project_x  rs   jc     rat  sprague-dawley       456  male   \n",
       "2  project_x  rs   jc     rat  sprague-dawley       789  male   \n",
       "0  project_x  rs   jc     rat  sprague-dawley       123  male   \n",
       "1  project_x  rs   jc     rat  sprague-dawley       365  male   \n",
       "2  project_x  rs   jc     rat  sprague-dawley       987  male   \n",
       "\n",
       "         date_of_birth      date_of_arrival  age_at_arrival_weeks  \\\n",
       "0  2020-01-01 00:00:00  2020-02-13 00:00:00                     8   \n",
       "1  2020-01-01 00:00:00  2020-02-13 00:00:00                     8   \n",
       "2  2020-01-01 00:00:00  2020-02-13 00:00:00                     8   \n",
       "0             20200101             20200213                     8   \n",
       "1             20200101             20200213                     8   \n",
       "2             20200101             20200213                     8   \n",
       "\n",
       "      location_id date_of_sacrifice  \n",
       "0  animal_room_01               NaT  \n",
       "1  animal_room_01               NaT  \n",
       "2  animal_room_01               NaT  \n",
       "0  animal_room_01               NaT  \n",
       "1  animal_room_01               NaT  \n",
       "2  animal_room_01               NaT  "
      ]
     },
     "metadata": {},
     "output_type": "display_data"
    }
   ],
   "source": [
    "display(updated_record)"
   ]
  },
  {
   "cell_type": "markdown",
   "metadata": {},
   "source": [
    "# Extract part of the record for a new experiment\n",
    "\n",
    "The cells bellow allow the extraction of certain animals from the record. For instance, when you start a new experiment, you may want to select some animals and extract an excel fil with this information. \n"
   ]
  },
  {
   "cell_type": "code",
   "execution_count": 14,
   "metadata": {},
   "outputs": [],
   "source": [
    "# First specify some importance information to extract the data:\n",
    "animal_id_list = [365, 987]          \n",
    "user = 'jc'.upper()            \n",
    "experiment_number = '563'    \n"
   ]
  },
  {
   "cell_type": "code",
   "execution_count": 15,
   "metadata": {},
   "outputs": [
    {
     "name": "stdout",
     "output_type": "stream",
     "text": [
      "Specify the directory where you want place the files: \n",
      "C:\\Users\\josec\\Desktop\\tests\\new_experiment\n"
     ]
    }
   ],
   "source": [
    "# Specify where you want to export the file.\n",
    "output_path = input('Specify the directory where you want place the files: \\n')"
   ]
  },
  {
   "cell_type": "code",
   "execution_count": 21,
   "metadata": {},
   "outputs": [
    {
     "name": "stdout",
     "output_type": "stream",
     "text": [
      "Dataframe saved at: C:\\Users\\josec\\Desktop\\tests\\new_experiment\\RS_EXP563_animal_record.xls\n"
     ]
    }
   ],
   "source": [
    "dataframe_record = fetch_from_main_record(\n",
    "    animal_id_list,\n",
    "    main_record,\n",
    "    user=user,\n",
    "    experiment_number=experiment_number,\n",
    "    output_path=output_path,\n",
    ")\n"
   ]
  },
  {
   "cell_type": "markdown",
   "metadata": {},
   "source": [
    "# Update information in the main record\n",
    "\n",
    "This section allows the user to update the main record file. For instance, if you change the ownership of the animals, if you want to add the date of sacrifice, etc. \n",
    "\n",
    "The updates will required the specific animal_id_number."
   ]
  },
  {
   "cell_type": "code",
   "execution_count": 22,
   "metadata": {
    "scrolled": true
   },
   "outputs": [
    {
     "data": {
      "text/html": [
       "<div>\n",
       "<style scoped>\n",
       "    .dataframe tbody tr th:only-of-type {\n",
       "        vertical-align: middle;\n",
       "    }\n",
       "\n",
       "    .dataframe tbody tr th {\n",
       "        vertical-align: top;\n",
       "    }\n",
       "\n",
       "    .dataframe thead th {\n",
       "        text-align: right;\n",
       "    }\n",
       "</style>\n",
       "<table border=\"1\" class=\"dataframe\">\n",
       "  <thead>\n",
       "    <tr style=\"text-align: right;\">\n",
       "      <th></th>\n",
       "      <th>project</th>\n",
       "      <th>pi</th>\n",
       "      <th>user</th>\n",
       "      <th>species</th>\n",
       "      <th>strain</th>\n",
       "      <th>animal_id</th>\n",
       "      <th>sex</th>\n",
       "      <th>date_of_birth</th>\n",
       "      <th>date_of_arrival</th>\n",
       "      <th>age_at_arrival_weeks</th>\n",
       "      <th>location_id</th>\n",
       "      <th>date_of_sacrifice</th>\n",
       "    </tr>\n",
       "  </thead>\n",
       "  <tbody>\n",
       "    <tr>\n",
       "      <th>0</th>\n",
       "      <td>project_x</td>\n",
       "      <td>rs</td>\n",
       "      <td>jc</td>\n",
       "      <td>rat</td>\n",
       "      <td>sprague-dawley</td>\n",
       "      <td>132</td>\n",
       "      <td>male</td>\n",
       "      <td>2020-01-01</td>\n",
       "      <td>2020-02-13</td>\n",
       "      <td>8</td>\n",
       "      <td>animal_room_01</td>\n",
       "      <td>NaT</td>\n",
       "    </tr>\n",
       "    <tr>\n",
       "      <th>1</th>\n",
       "      <td>project_x</td>\n",
       "      <td>rs</td>\n",
       "      <td>jc</td>\n",
       "      <td>rat</td>\n",
       "      <td>sprague-dawley</td>\n",
       "      <td>456</td>\n",
       "      <td>male</td>\n",
       "      <td>2020-01-01</td>\n",
       "      <td>2020-02-13</td>\n",
       "      <td>8</td>\n",
       "      <td>animal_room_01</td>\n",
       "      <td>NaT</td>\n",
       "    </tr>\n",
       "    <tr>\n",
       "      <th>2</th>\n",
       "      <td>project_x</td>\n",
       "      <td>rs</td>\n",
       "      <td>jc</td>\n",
       "      <td>rat</td>\n",
       "      <td>sprague-dawley</td>\n",
       "      <td>789</td>\n",
       "      <td>male</td>\n",
       "      <td>2020-01-01</td>\n",
       "      <td>2020-02-13</td>\n",
       "      <td>8</td>\n",
       "      <td>animal_room_01</td>\n",
       "      <td>NaT</td>\n",
       "    </tr>\n",
       "    <tr>\n",
       "      <th>0</th>\n",
       "      <td>project_x</td>\n",
       "      <td>rs</td>\n",
       "      <td>jc</td>\n",
       "      <td>rat</td>\n",
       "      <td>sprague-dawley</td>\n",
       "      <td>123</td>\n",
       "      <td>male</td>\n",
       "      <td>2020-01-01</td>\n",
       "      <td>2020-02-13</td>\n",
       "      <td>8</td>\n",
       "      <td>animal_room_01</td>\n",
       "      <td>20200401</td>\n",
       "    </tr>\n",
       "    <tr>\n",
       "      <th>1</th>\n",
       "      <td>project_x</td>\n",
       "      <td>rs</td>\n",
       "      <td>jc</td>\n",
       "      <td>rat</td>\n",
       "      <td>sprague-dawley</td>\n",
       "      <td>365</td>\n",
       "      <td>male</td>\n",
       "      <td>2020-01-01</td>\n",
       "      <td>2020-02-13</td>\n",
       "      <td>8</td>\n",
       "      <td>animal_room_01</td>\n",
       "      <td>NaT</td>\n",
       "    </tr>\n",
       "    <tr>\n",
       "      <th>2</th>\n",
       "      <td>project_x</td>\n",
       "      <td>rs</td>\n",
       "      <td>jc</td>\n",
       "      <td>rat</td>\n",
       "      <td>sprague-dawley</td>\n",
       "      <td>987</td>\n",
       "      <td>male</td>\n",
       "      <td>2020-01-01</td>\n",
       "      <td>2020-02-13</td>\n",
       "      <td>8</td>\n",
       "      <td>animal_room_01</td>\n",
       "      <td>NaT</td>\n",
       "    </tr>\n",
       "  </tbody>\n",
       "</table>\n",
       "</div>"
      ],
      "text/plain": [
       "     project  pi user species          strain  animal_id   sex date_of_birth  \\\n",
       "0  project_x  rs   jc     rat  sprague-dawley        132  male    2020-01-01   \n",
       "1  project_x  rs   jc     rat  sprague-dawley        456  male    2020-01-01   \n",
       "2  project_x  rs   jc     rat  sprague-dawley        789  male    2020-01-01   \n",
       "0  project_x  rs   jc     rat  sprague-dawley        123  male    2020-01-01   \n",
       "1  project_x  rs   jc     rat  sprague-dawley        365  male    2020-01-01   \n",
       "2  project_x  rs   jc     rat  sprague-dawley        987  male    2020-01-01   \n",
       "\n",
       "  date_of_arrival  age_at_arrival_weeks     location_id date_of_sacrifice  \n",
       "0      2020-02-13                     8  animal_room_01               NaT  \n",
       "1      2020-02-13                     8  animal_room_01               NaT  \n",
       "2      2020-02-13                     8  animal_room_01               NaT  \n",
       "0      2020-02-13                     8  animal_room_01          20200401  \n",
       "1      2020-02-13                     8  animal_room_01               NaT  \n",
       "2      2020-02-13                     8  animal_room_01               NaT  "
      ]
     },
     "metadata": {},
     "output_type": "display_data"
    }
   ],
   "source": [
    "main_record = update_main_record(\n",
    "    \n",
    "    animal_record=main_record.copy(), \n",
    "    animal_id_list=[123],\n",
    "    column_to_update='date_of_sacrifice',                   \n",
    "    value_to_add='20200401',\n",
    "    \n",
    ");\n",
    "# Visualize the update.\n",
    "display(main_record)"
   ]
  },
  {
   "cell_type": "markdown",
   "metadata": {},
   "source": [
    "### (Optional) Create a new copy of the main record with the updated information.\n",
    "\n",
    "The cell bellow will create a new update of the main_record. It will NOT update the previous file, it will create a new file with a distinct timestamp. \n"
   ]
  },
  {
   "cell_type": "code",
   "execution_count": 23,
   "metadata": {},
   "outputs": [
    {
     "name": "stdout",
     "output_type": "stream",
     "text": [
      "File saved at C:\\Users\\josec\\Desktop\\tests\\animal_records\\main_record\\main_record_20200403_141806.csv\n"
     ]
    }
   ],
   "source": [
    "save_main_record(main_record, main_record_dir)"
   ]
  },
  {
   "cell_type": "code",
   "execution_count": null,
   "metadata": {},
   "outputs": [],
   "source": []
  }
 ],
 "metadata": {
  "kernelspec": {
   "display_name": "Python 3",
   "language": "python",
   "name": "python3"
  },
  "language_info": {
   "codemirror_mode": {
    "name": "ipython",
    "version": 3
   },
   "file_extension": ".py",
   "mimetype": "text/x-python",
   "name": "python",
   "nbconvert_exporter": "python",
   "pygments_lexer": "ipython3",
   "version": "3.7.6"
  }
 },
 "nbformat": 4,
 "nbformat_minor": 2
}
