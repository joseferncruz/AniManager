{
 "cells": [
  {
   "cell_type": "markdown",
   "metadata": {},
   "source": [
    "# AniManager\n",
    "AniManager is a package to help in the tedious job of keeping track of the animals used for research."
   ]
  },
  {
   "cell_type": "markdown",
   "metadata": {},
   "source": [
    "### LeDoux Lab\n",
    "\n",
    "This notebook is intended to ease the **management of lab animal**.\n",
    "if you have issues or questions just email me: jose.cruz@nyu.edu\n"
   ]
  },
  {
   "cell_type": "markdown",
   "metadata": {},
   "source": [
    "### 1) Import relevant python modules"
   ]
  },
  {
   "cell_type": "code",
   "execution_count": null,
   "metadata": {},
   "outputs": [],
   "source": [
    "import pandas as pd\n",
    "import sys\n",
    "import warnings\n",
    "warnings.filterwarnings('ignore')"
   ]
  },
  {
   "cell_type": "markdown",
   "metadata": {},
   "source": [
    "### 2) Load the source code library\n",
    "\n",
    "First, let's tell python where the source (*src*) code library is.\n",
    "\n",
    "Example: `C:\\Users\\user_name\\Google Drive\\ani_manager\\src`"
   ]
  },
  {
   "cell_type": "code",
   "execution_count": null,
   "metadata": {},
   "outputs": [],
   "source": [
    "# Define the directory path for the source (src) code folder\n",
    "src_directory_path = input('Insert the absolute path of the source code directory: ')\n",
    "\n",
    "# Add the folder to the system pathway\n",
    "sys.path.insert(0, src_directory_path)\n",
    "sys.path[0]"
   ]
  },
  {
   "cell_type": "markdown",
   "metadata": {},
   "source": [
    "#### 2.1) Import module: ani_manager\n",
    "This module has the functions that create, modify and save the main animal record. "
   ]
  },
  {
   "cell_type": "code",
   "execution_count": null,
   "metadata": {},
   "outputs": [],
   "source": [
    "import ani_manager\n",
    "from ani_manager import *"
   ]
  },
  {
   "cell_type": "markdown",
   "metadata": {},
   "source": [
    "# A. Create new animal record\n",
    "\n",
    "This section creates a new animal record with the following columns:\n",
    "\n",
    "`'project', 'pi', 'user', 'species', 'strain', 'animal_id', 'sex', 'date_of_birth', 'date_of_arrival', 'age_at_arrival_weeks', 'location_id', 'date_of_sacrifice'`\n",
    "\n",
    "The identification of the animals will use an **individual, unique numerical id**. This identifier will be the same to all the expeririments and future code will automatically fetch information about an individual animal based on this id.\n",
    "\n",
    "**Note**\n",
    "If the list of animals is empty, it will return the shell of the record."
   ]
  },
  {
   "cell_type": "markdown",
   "metadata": {},
   "source": [
    "**Define the basic information for each animal batch to be imported.**"
   ]
  },
  {
   "cell_type": "code",
   "execution_count": null,
   "metadata": {},
   "outputs": [],
   "source": [
    "# Create a list with the animal ID\n",
    "# Must be a sequence (ie list): numbers inbetween square brackets and separeted by commas\n",
    "\n",
    "animal_list = [1, 2]   # e.g. [12345, 123345, 12312, 1231233]\n",
    "\n",
    "\n",
    "import_info = {\n",
    "    \n",
    "               'animal_list': animal_list,\n",
    "                   'project': '',\n",
    "    'principal_investigator': '',\n",
    "                      'user': '',\n",
    "                   'species': '',\n",
    "                    'strain': '',\n",
    "      'age_at_arrival_weeks': 0,   # non decimal \n",
    "                       'sex': '',\n",
    "             'date_of_birth': '',  # use format: YYYYMMDD \n",
    "           'date_of_arrival': '',  # use format: YYYYMMDD\n",
    "               'location_id': '',\n",
    "    \n",
    "}\n",
    "\n",
    "display(import_info)"
   ]
  },
  {
   "cell_type": "code",
   "execution_count": null,
   "metadata": {},
   "outputs": [],
   "source": [
    "animal_record = create_new_animal_record(import_info)\n",
    "display(animal_record)"
   ]
  },
  {
   "cell_type": "markdown",
   "metadata": {},
   "source": [
    "## (Optional)  Export this individual import as .xls or .csv file\n",
    "\n",
    "Create a new directory to store the animal records. Example:\n",
    "`C:\\Users\\username\\GoogleDrive\\animal_records`"
   ]
  },
  {
   "cell_type": "code",
   "execution_count": null,
   "metadata": {},
   "outputs": [],
   "source": [
    "# Insert the path to the directory where the animal files are stored.\n",
    "saving_directory = input('Insert the absolute path to the animal_records directory: \\n')"
   ]
  },
  {
   "cell_type": "markdown",
   "metadata": {},
   "source": [
    "Each import will have a specific timestamp associated with: `YYYYMMDD_HHMM`\n",
    "\n",
    "`main_record` files will be labelled:\n",
    "`main_record_YYYYMMDD_HHMMSS.csv`\n",
    "\n",
    "`new_import` files will be labelled:\n",
    "`new_import_YYYYMMDD_HHMMSS.csv`\n",
    "`new_import_YYYYMMDD_HHMMSS.xls`\n",
    "individual_updates"
   ]
  },
  {
   "cell_type": "code",
   "execution_count": null,
   "metadata": {},
   "outputs": [],
   "source": [
    "save_new_animal_record(\n",
    "    \n",
    "    animal_record=animal_record,\n",
    "    save_dir=saving_directory,\n",
    "    is_new_main_record=False,   \n",
    "    save_csv=True,             # Change here to True\n",
    "    save_excel=True,           # Change here to True\n",
    "\n",
    ")"
   ]
  },
  {
   "cell_type": "markdown",
   "metadata": {},
   "source": [
    "# B. Check and update the main record\n",
    "\n",
    "First we need to load the main record file, specify the absolute path to thedirectory where it is store.\n",
    "\n",
    "Example: `C:\\Users\\username\\GoogleDrive\\animal_records\\main_record`"
   ]
  },
  {
   "cell_type": "code",
   "execution_count": null,
   "metadata": {},
   "outputs": [],
   "source": [
    "# Directory filepath\n",
    "\n",
    "main_record_dir = input('Insert the absolute path to the main record directory: \\n')"
   ]
  },
  {
   "cell_type": "markdown",
   "metadata": {},
   "source": [
    "### 1) Load the main record.\n",
    "If you update the main_record in other posterior steps, you need to run this code to reload the main record. "
   ]
  },
  {
   "cell_type": "code",
   "execution_count": null,
   "metadata": {},
   "outputs": [],
   "source": [
    "main_record_filepath, main_record = get_main_record(main_record_dir)\n",
    "\n",
    "display(main_record_filepath)\n",
    "display(main_record)"
   ]
  },
  {
   "cell_type": "markdown",
   "metadata": {},
   "source": [
    "### 2) Merge the new_import with the main_record.\n",
    "\n",
    "If you created a `new_import` and you want to merge it with the latest version of the `main_record`, use the function bellow. \n",
    "If you have multiple records, you need to call the function to merge each new import. \n",
    "\n",
    "**Note**\n",
    "If you have more experience with pandas, just merge all the new imports and then call the function bellow. "
   ]
  },
  {
   "cell_type": "code",
   "execution_count": null,
   "metadata": {},
   "outputs": [],
   "source": [
    "updated_record = merge_with_main_record(\n",
    "    \n",
    "    animal_record,\n",
    "    main_record,\n",
    "    main_record_dir,\n",
    "    save_output=True, # Change here if you need to save the file\n",
    "    \n",
    ")"
   ]
  },
  {
   "cell_type": "code",
   "execution_count": null,
   "metadata": {},
   "outputs": [],
   "source": [
    "# This will show what was imported into the updated main_record.\n",
    "display(updated_record)"
   ]
  },
  {
   "cell_type": "markdown",
   "metadata": {},
   "source": [
    "# C. Fetch part of the record for a new experiment\n",
    "\n",
    "If you did an update of the `main_record`, you will need to re-run the section **B.1** before executing the cell bellow.\n",
    "\n",
    "The cells bellow allow the extraction of information from certain animals from the `main_record`. For instance, when you start a new experiment, you may want to select some animals and create a new excel file with this information. \n"
   ]
  },
  {
   "cell_type": "code",
   "execution_count": null,
   "metadata": {},
   "outputs": [],
   "source": [
    "# First specify some importance information to extract the data:\n",
    "#animal_id_list = []       # e.g. [1234, 3456, 56778]   \n",
    "user = 'JC'.upper()            \n",
    "experiment_number = '003'\n"
   ]
  },
  {
   "cell_type": "markdown",
   "metadata": {},
   "source": [
    "In the cell bellow, you need to specific the directory where you want to export the new excel file:\n",
    "\n",
    "Example: `C:\\Users\\username\\GoogleDrive\\experiment_001`"
   ]
  },
  {
   "cell_type": "code",
   "execution_count": null,
   "metadata": {},
   "outputs": [],
   "source": [
    "# Specify where you want to export the file.\n",
    "output_path = input('Specify the directory where you want place the files: \\n')"
   ]
  },
  {
   "cell_type": "code",
   "execution_count": null,
   "metadata": {},
   "outputs": [],
   "source": [
    "dataframe_record = fetch_from_main_record(\n",
    "    \n",
    "    animal_id_list,\n",
    "    main_record,\n",
    "    user=user,\n",
    "    experiment_number=experiment_number,\n",
    "    output_path=output_path,\n",
    "    \n",
    ")"
   ]
  },
  {
   "cell_type": "markdown",
   "metadata": {},
   "source": [
    "# D. Update information in the main record\n",
    "\n",
    "This section allows the user to update the `main_record`, for instance:\n",
    "* the user want to add the date of sacrifice, \n",
    "* the user wats to change the room where the animals are stored,\n",
    "* etc. \n",
    "\n",
    "The updates will required the specific animal_id_number."
   ]
  },
  {
   "cell_type": "code",
   "execution_count": null,
   "metadata": {},
   "outputs": [],
   "source": [
    "animal_id_list=[]"
   ]
  },
  {
   "cell_type": "code",
   "execution_count": null,
   "metadata": {},
   "outputs": [],
   "source": [
    "main_record = update_main_record(\n",
    "    \n",
    "    animal_record=main_record, \n",
    "    animal_id_list=animal_id_list,\n",
    "    column_to_update='',  # name of the column to update, do not forget the quotation marks                 \n",
    "    value_to_add='',      # value to add, do not forget the quotation marks\n",
    "    \n",
    ");\n",
    "\n",
    "# Visualize the update.\n",
    "display(main_record)"
   ]
  },
  {
   "cell_type": "markdown",
   "metadata": {},
   "source": [
    "## Create a new copy of the main record with the updated information.\n",
    "\n",
    "The cell bellow will create a new update of the main_record. It will **NOT** update the previous .csv file but it will create a unique .csv with a unique timestamp.\n"
   ]
  },
  {
   "cell_type": "code",
   "execution_count": null,
   "metadata": {},
   "outputs": [],
   "source": [
    "save_main_record(main_record, main_record_dir)"
   ]
  }
 ],
 "metadata": {
  "kernelspec": {
   "display_name": "Python 3",
   "language": "python",
   "name": "python3"
  },
  "language_info": {
   "codemirror_mode": {
    "name": "ipython",
    "version": 3
   },
   "file_extension": ".py",
   "mimetype": "text/x-python",
   "name": "python",
   "nbconvert_exporter": "python",
   "pygments_lexer": "ipython3",
   "version": "3.7.6"
  }
 },
 "nbformat": 4,
 "nbformat_minor": 2
}
