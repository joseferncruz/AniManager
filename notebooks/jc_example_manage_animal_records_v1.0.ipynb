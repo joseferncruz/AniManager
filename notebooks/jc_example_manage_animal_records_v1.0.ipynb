{
 "cells": [
  {
   "cell_type": "markdown",
   "metadata": {},
   "source": [
    "# Managing animal records\n"
   ]
  },
  {
   "cell_type": "markdown",
   "metadata": {},
   "source": [
    "### LeDoux Lab\n",
    "\n",
    "This notebook is intended to ease the **management of lab animal**.\n",
    "\n",
    "This is an ongoing project and it's normal find bugs or functions that are useful but not yet implemented. If you have any questions or suggestions just email : jose.cruz@nyu.edu \n"
   ]
  },
  {
   "cell_type": "markdown",
   "metadata": {},
   "source": [
    "### Import relevant python modules"
   ]
  },
  {
   "cell_type": "code",
   "execution_count": 21,
   "metadata": {},
   "outputs": [],
   "source": [
    "import os\n",
    "import numpy as np\n",
    "import pandas as pd\n",
    "import sys\n",
    "import warnings\n",
    "import importlib\n",
    "warnings.filterwarnings('ignore')"
   ]
  },
  {
   "cell_type": "markdown",
   "metadata": {},
   "source": [
    "### Run the cell bellow without editing it"
   ]
  },
  {
   "cell_type": "code",
   "execution_count": 8,
   "metadata": {},
   "outputs": [],
   "source": [
    "def load_source_code_library(src_directory_path):\n",
    "    \n",
    "    if src_directory_path.endswith('src'):\n",
    "        if True in [element.endswith('src') for element in sys.path]:\n",
    "            print('Source code library is already loaded.')\n",
    "        else:\n",
    "            print('Source code library not found.\\nAppending src_directory_path...')\n",
    "            try:\n",
    "                sys.path.append(src_directory_path)\n",
    "                print('Source code library is loaded.')\n",
    "            except:\n",
    "                print('Error with given source code library pathway')\n",
    "                src_directory_path = input('Insert a valid path for the source code library: ')\n",
    "    else:\n",
    "        print('Error with pathway provided. Source folder not found. Verify the folder and try again.')     "
   ]
  },
  {
   "cell_type": "markdown",
   "metadata": {},
   "source": [
    "### Load the source code library\n",
    "\n",
    "First, let's tell python where the source (*src*) code library is."
   ]
  },
  {
   "cell_type": "code",
   "execution_count": 9,
   "metadata": {},
   "outputs": [
    {
     "name": "stdout",
     "output_type": "stream",
     "text": [
      "Insert the absolute path of the source code directory: C:\\Users\\josec\\Google Drive\\work\\science\\postdoc_nyu\\reproducible_science_tools\\ani_manager\\src\n",
      "Source code library not found.\n",
      "Appending src_directory_path...\n",
      "Source code library is loaded.\n"
     ]
    }
   ],
   "source": [
    "# Define the directory path for the source code folder\n",
    "src_directory_path = input('Insert the absolute path of the source code directory: ')\n",
    "\n",
    "# Add the folder to the system pathway\n",
    "load_source_code_library(src_directory_path)"
   ]
  },
  {
   "cell_type": "markdown",
   "metadata": {},
   "source": [
    "#### Import module: manage_animal_records\n",
    "This module holds the functions that create, modify and save the main animal record. "
   ]
  },
  {
   "cell_type": "code",
   "execution_count": 25,
   "metadata": {},
   "outputs": [
    {
     "data": {
      "text/plain": [
       "'0.3.0'"
      ]
     },
     "execution_count": 25,
     "metadata": {},
     "output_type": "execute_result"
    }
   ],
   "source": [
    "importlib.reload(ani_manager)\n",
    "import ani_manager\n",
    "ani_manager.__version__"
   ]
  },
  {
   "cell_type": "markdown",
   "metadata": {},
   "source": [
    "# Create new animal record\n",
    "\n",
    "This section creates a new animal record with the following information:\n",
    "\n",
    "*'project', 'pi', 'user', 'species', 'strain', 'animal_id', 'sex', 'date_of_birth', 'date_of_arrival', 'age_at_arrival_weeks', 'location_id', 'date_of_sacrifice'*\n",
    "\n",
    "The identification of the animals will use an **individual, unique numerical id**. This identifier will be transverse to all the expeririments and future code will automatically fetch information about an individual animal based on this id.\n",
    "\n",
    "**Note**\n",
    "If the list of animals is empty, it will return the shell of the record."
   ]
  },
  {
   "cell_type": "code",
   "execution_count": null,
   "metadata": {},
   "outputs": [],
   "source": [
    "# Create a list with the animal ID\n",
    "# Must be a sequence (ie list): numbers inbetween square brackets and separeted by commas\n",
    "\n",
    "animal_list = [143234, 3827615, 1344321, 2233432]   # e.g. [12345, 123345, 12312, 1231233]\n"
   ]
  },
  {
   "cell_type": "code",
   "execution_count": null,
   "metadata": {},
   "outputs": [],
   "source": [
    "# Modify the information bellow\n",
    "animal_record = manage_animal_records.create_new_animal_record(animal_list=animal_list,\n",
    "                                                               project='project_id',\n",
    "                                                               PI='ledoux',\n",
    "                                                               user='jc',\n",
    "                                                               species='rat',\n",
    "                                                               strain='sprague-dawley',\n",
    "                                                               age_at_arrival_weeks=8,\n",
    "                                                               sex='female',\n",
    "                                                               date_of_birth='20191018', \n",
    "                                                               date_of_arrival='20191227',\n",
    "                                                               location_id='114_meyer_1110',\n",
    "                                                               )\n",
    "# verify the new import\n",
    "display(animal_record)"
   ]
  },
  {
   "cell_type": "markdown",
   "metadata": {},
   "source": [
    "## (Optional)  Export this individual import as .xls or .csv file\n",
    "\n",
    "All files are identified as: new_import + date(YYYMMDD_HHMMSS). Example:\n",
    "\n",
    "`new_import_20200325_163206.csv`\n",
    "\n",
    "`new_import_20200325_163206.xls`"
   ]
  },
  {
   "cell_type": "code",
   "execution_count": null,
   "metadata": {},
   "outputs": [],
   "source": [
    "# Insert the path to the directory where the animal files are stored.\n",
    "animal_records = input('Insert the absolute path to the animal records directory: \\n')"
   ]
  },
  {
   "cell_type": "code",
   "execution_count": null,
   "metadata": {},
   "outputs": [],
   "source": [
    "manage_animal_records.save_new_animal_record(\n",
    "    animal_record=animal_record,\n",
    "    save_dir=os.path.join(animal_records, 'individual_updates'),\n",
    "    save_csv=False,       # Change here to True\n",
    "    save_excel=False,    # Change here to True\n",
    ")"
   ]
  },
  {
   "cell_type": "markdown",
   "metadata": {},
   "source": [
    "# Check and update the main record\n",
    "\n",
    "First we need to load the main record file. Specify the directory where it is store and follow the instructions. "
   ]
  },
  {
   "cell_type": "code",
   "execution_count": null,
   "metadata": {},
   "outputs": [],
   "source": [
    "# Directory filepath\n",
    "main_record_dir = input('Insert the absolute path to the main record directory: ')\n",
    "\n",
    "assert os.path.isdir(main_record_dir) == True, 'The absolute path is wrong. Please correct.'"
   ]
  },
  {
   "cell_type": "markdown",
   "metadata": {},
   "source": [
    "### 1) Load the main record. "
   ]
  },
  {
   "cell_type": "code",
   "execution_count": null,
   "metadata": {},
   "outputs": [],
   "source": [
    "main_record_filepath, main_record = manage_animal_records.get_main_record(main_record_dir)\n",
    "\n",
    "display(main_record_filepath)\n",
    "display(main_record)"
   ]
  },
  {
   "cell_type": "markdown",
   "metadata": {},
   "source": [
    "### 2) Merge the new import with the main record.\n",
    "\n",
    "If you created a new import and you want to merge it with the animal record, use the function bellow. \n",
    "If you have multiple records, you can call the function for each merge. \n",
    "\n",
    "**Note**\n",
    "If you have more experience with pandas, just merge all the new imports and then call the function bellow. "
   ]
  },
  {
   "cell_type": "code",
   "execution_count": null,
   "metadata": {
    "scrolled": true
   },
   "outputs": [],
   "source": [
    "updated_record = manage_animal_records.merge_main_record(animal_record,\n",
    "                                                         main_record,\n",
    "                                                         main_record_dir,\n",
    "                                                         save_output=False,# Change here\n",
    "                                                         )"
   ]
  },
  {
   "cell_type": "code",
   "execution_count": null,
   "metadata": {},
   "outputs": [],
   "source": [
    "display(updated_record)"
   ]
  },
  {
   "cell_type": "markdown",
   "metadata": {},
   "source": [
    "# Extract part of the record for a new experiment\n",
    "\n",
    "The cells bellow allow the extraction of certain animals from the record. For instance, when you start a new experiment, you may want to select some animals and extract an excel fil with this information. \n"
   ]
  },
  {
   "cell_type": "code",
   "execution_count": null,
   "metadata": {},
   "outputs": [],
   "source": [
    "# First specify some importance information to extract the data:\n",
    "animal_id_list = []          \n",
    "user = ''.upper()            \n",
    "experiment_number = '000'    \n"
   ]
  },
  {
   "cell_type": "code",
   "execution_count": null,
   "metadata": {},
   "outputs": [],
   "source": [
    "# Specify where you want to export the file.\n",
    "output_path = input('Specify the directory where you want place the files: \\n')"
   ]
  },
  {
   "cell_type": "code",
   "execution_count": null,
   "metadata": {},
   "outputs": [],
   "source": [
    "dataframe_record = manage_animal_records.fetch_from_main_record(\n",
    "    animal_id_list,\n",
    "    main_record,\n",
    "    user=user,\n",
    "    experiment_number=experiment_number,\n",
    "    output_path=output_path,\n",
    ")\n"
   ]
  },
  {
   "cell_type": "markdown",
   "metadata": {},
   "source": [
    "# Update information in the main record\n",
    "\n",
    "This section allows the user to update the main record file. For instance, if you change the ownership of the animals, if you want to add the date of sacrifice, etc. \n",
    "\n",
    "The updates will required the specific animal_id_number."
   ]
  },
  {
   "cell_type": "code",
   "execution_count": null,
   "metadata": {
    "scrolled": true
   },
   "outputs": [],
   "source": [
    "main_record = manage_animal_records.update_main_record(\n",
    "    \n",
    "    animal_record=main_record.copy(), \n",
    "    animal_id_list=[285585, 285587],\n",
    "    column_to_update='date_of_sacrifice',                   \n",
    "    value_to_add='20200320',\n",
    "    \n",
    ");\n",
    "# Visualize the update.\n",
    "main_record"
   ]
  },
  {
   "cell_type": "markdown",
   "metadata": {},
   "source": [
    "### (Optional) Create a new copy of the main record with the updated information.\n",
    "\n",
    "The cell bellow will create a new update of the main_record. It will NOT update the previous file, it will create a new file with a distinct timestamp. \n"
   ]
  },
  {
   "cell_type": "code",
   "execution_count": null,
   "metadata": {},
   "outputs": [],
   "source": [
    "manage_animal_records.save_main_record(main_record,\n",
    "                                       main_record_dir)"
   ]
  }
 ],
 "metadata": {
  "kernelspec": {
   "display_name": "Python 3",
   "language": "python",
   "name": "python3"
  },
  "language_info": {
   "codemirror_mode": {
    "name": "ipython",
    "version": 3
   },
   "file_extension": ".py",
   "mimetype": "text/x-python",
   "name": "python",
   "nbconvert_exporter": "python",
   "pygments_lexer": "ipython3",
   "version": "3.7.6"
  }
 },
 "nbformat": 4,
 "nbformat_minor": 2
}
